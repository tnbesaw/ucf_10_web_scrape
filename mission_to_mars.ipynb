{
 "cells": [
  {
   "cell_type": "code",
   "execution_count": 1,
   "metadata": {},
   "outputs": [],
   "source": [
    "from splinter import Browser\n",
    "from bs4 import BeautifulSoup\n",
    "import pandas as pd"
   ]
  },
  {
   "cell_type": "code",
   "execution_count": 2,
   "metadata": {},
   "outputs": [],
   "source": [
    "executable_path = {'executable_path': 'chromedriver.exe'}\n",
    "browser = Browser('chrome', **executable_path, headless=False)"
   ]
  },
  {
   "cell_type": "markdown",
   "metadata": {},
   "source": [
    "# Step 1.1 - NASA Mars News"
   ]
  },
  {
   "cell_type": "code",
   "execution_count": 3,
   "metadata": {},
   "outputs": [
    {
     "name": "stdout",
     "output_type": "stream",
     "text": [
      "title: InSight Engineers Have Made a Martian Rock Garden\n",
      "desc:  Reconstructing Mars here on Earth lets them practice setting down the lander's science instruments.\n",
      " \n",
      "title: Mars InSight Lander Seen in First Images from Space \n",
      "desc:  Look closely, and you can make out the lander's solar panels.\n",
      " \n",
      "title: NASA's InSight Takes Its First Selfie\n",
      "desc:  Two new image mosaics detail the lander's deck and \"workspace\" — the surface where it will eventually set down its science instruments.\n",
      " \n",
      "title: NASA InSight Lander 'Hears' Martian Winds \n",
      "desc:  Vibrations picked up by two spacecraft instruments have provided the first sounds of Martian wind.\n",
      " \n",
      "title: NASA's Mars InSight Flexes Its Arm\n",
      "desc:  Now unstowed, the spacecraft's robotic arm will point a camera located on its elbow and take images of the surroundings.\n",
      " \n",
      "title: Mars New Home 'a Large Sandbox'\n",
      "desc:  With InSight safely on the surface of Mars, the mission team is busy learning more about the spacecraft's landing site.\n",
      " \n",
      "title: NASA Hears MarCO CubeSats Loud and Clear from Mars \n",
      "desc:  A pair of tiny, experimental spacecraft fulfilled their mission yesterday, relaying back near-real-time data during InSight's landing.\n",
      " \n",
      "title: InSight Is Catching Rays on Mars\n",
      "desc:  The lander has sent data indicating its solar panels are open and receiving sunlight to power its surface operations.\n",
      " \n",
      "title: NASA InSight Lander Arrives on Martian Surface \n",
      "desc:  The touchdown marks the eighth time NASA has successfully landed a spacecraft on Mars.\n",
      " \n",
      "title: Landing Day for InSight\n",
      "desc:  NASA's InSight spacecraft is on target for Mars landing at around noon PST today.\n",
      " \n",
      "title: NASA InSight Landing on Mars: Milestones\n",
      "desc:  On Nov. 26, NASA's InSight spacecraft will blaze through the Martian atmosphere and set a lander gently on the surface in less time than it takes to cook a hard-boiled egg.\n",
      " \n",
      "title: NASA InSight Team on Course for Mars Touchdown\n",
      "desc:  NASA's Mars InSight spacecraft is on track for a soft touchdown on the surface of the Red Planet on Nov. 26.\n",
      " \n",
      "title: What Two Planetary Siblings Can Teach Us About Life\n",
      "desc:  In studying Mars, NASA's InSight will reveal what makes one planet more or less suitable for life than another.\n",
      " \n",
      "title: NASA Announces Landing Site for Mars 2020 Rover\n",
      "desc:  After a five-year search, NASA has chosen Jezero Crater as the landing site for its upcoming Mars 2020 rover mission.\n",
      " \n",
      "title: NASA to Host Media Call on Next Mars Landing Site\n",
      "desc:  NASA will host a media teleconference at 9 a.m. PST (noon EST) Monday, Nov. 19, to provide details about the Mars 2020 rover’s landing site on the Red Planet.\n",
      " \n",
      "title: How NASA Will Know When InSight Touches Down\n",
      "desc:  On Nov. 26, engineers will look for a combination of signals to determine whether the next spacecraft to Mars lands safely.\n",
      " \n",
      "title: NASA Brings Mars Landing to Viewers Everywhere\n",
      "desc:  NASA's InSight lander is scheduled to touch down on the Red Planet at approximately noon PST  on Nov. 26, with a new suite of instruments to probe below the Martian surface.\n",
      " \n",
      "title: Curiosity on the Move Again\n",
      "desc:  NASA's Mars Curiosity rover drove about 197 feet over the weekend to a site called Lake Orcadie, pushing its total odometry to over 12 miles.\n",
      " \n",
      "title: The Mars InSight Landing Site Is Just Plain Perfect\n",
      "desc:  If the InSight landing zone were ice cream, it would be vanilla.\n",
      " \n",
      "title: Five Things to Know About InSight's Mars Landing\n",
      "desc:  NASA engineers will be holding their breath when their spacecraft heads into Mars' atmosphere on Nov. 26.\n",
      " \n",
      "title: NASA Launches a New Podcast to Mars\n",
      "desc:  NASA's new eight-episode series 'On a Mission' follows the InSight spacecraft on its journey to Mars and details the extraordinary challenges of landing on the Red Planet.\n",
      " \n",
      "title: Update on Opportunity Rover Recovery Efforts\n",
      "desc:  After a review of the progress of the listening campaign, NASA will continue its current strategy for attempting to make contact with the Opportunity rover for the foreseeable future.\n",
      " \n",
      "title: Third ASPIRE Test Confirms Mars 2020 Parachute a Go\n",
      "desc:  The supersonic parachute that will handle the heaviest payload yet to the Red Planet – Mars 2020 rover – passes its final sounding rocket test with flying colors.\n",
      " \n",
      "title: NASA to Host Briefing on November Mars InSight Landing\n",
      "desc:  A briefing on NASA's upcoming InSight Mars landing will air on Wed. Oct. 31 at 1:30 p.m. EDT (10:30 a.m. PDT) on NASA TV, the agency's website and NASA InSight Facebook Page.\n",
      " \n",
      "title: NASA's InSight Will Study Mars While Standing Still\n",
      "desc:  The lander's unique science can teach us how planets are born.\n",
      " \n",
      "title: NASA's First Image of Mars from a CubeSat\n",
      "desc:  The image was produced by one of the twin briefcase-sized MarCO spacecraft, the first CubeSats to fly to deep space.\n",
      " \n",
      "title: The 'Claw Game' on Mars: NASA InSight Plays to Win\n",
      "desc:  NASA's InSight lander will be the first mission to use a robotic arm to grasp instruments from the spacecraft and place them on the surface of another planet. \n",
      " \n",
      "title: Scientists to Debate Landing Site for Next Mars Rover\n",
      "desc:  Hundreds of scientists and Mars-exploration enthusiasts gather this week to present, discuss and deliberate the future landing site for NASA's next Red Planet. \n",
      " \n",
      "title: Mars Virtual Reality Software Wins NASA Award\n",
      "desc:  A mixed-reality software that allows scientists and engineers to virtually walk on Mars has received NASA's 2018 Software of the Year Award.\n",
      " \n",
      "title: Painting Cars for Mars\n",
      "desc:  What does NASA do to get a rover ready for Mars? JPL's paint shop does a thousand different paint jobs a year. And while every piece of spacecraft that comes through the shop is important, one headed for the Red Planet adds a little extra oomph.\n",
      " \n",
      "title: Opportunity Emerges in a Dusty Picture\n",
      "desc:  NASA still hasn't heard from the Opportunity rover, but at least the agency can see it again.\n",
      " \n",
      "title: NASA Seeking Partner in Contest to Name Next Mars Rover\n",
      "desc:  NASA has a class assignment for corporations, nonprofits and educational organizations involved in science and space exploration: partner with the agency to inspire future engineers and scientists by sponsoring a contest to name the next rover to venture to the Red Planet.\n",
      " \n",
      "title: NASA's MAVEN Selfie Marks Four Years in Orbit at Mars\n",
      "desc:  NASA’s MAVEN spacecraft celebrates four years in Mars orbit with a selfie.\n",
      " \n",
      "title: MarCO Makes Space for Small Explorers\n",
      "desc:  A pair of NASA CubeSats flying to Mars are opening a new frontier for small spacecraft.\n",
      " \n",
      "title: Curiosity Surveys a Mystery Under Dusty Skies\n",
      "desc:  NASA's Curiosity rover surveyed its surroundings on Mars, producing a 360-degree panorama of its current location on Vera Rubin Ridge.\n",
      " \n",
      "title: NASA's InSight Has a Thermometer for Mars\n",
      "desc:  The mission's heat probe could reveal how the planet's towering volcanoes formed.\n",
      " \n",
      "title: Digital Creators: Apply for NASA Mars Landing Event\n",
      "desc:  Up to 30 multimedia participants will be selected for a special two-day event at JPL culminating in the InSight spacecraft's landing on Mars. Apply by Sept. 3.\n",
      " \n",
      "title: NASA's InSight Passes Halfway to Mars, Instruments Check In\n",
      "desc:  NASA's InSight spacecraft, en route to a Nov. 26 landing on Mars, passed the halfway mark on Aug. 6. All of its instruments have been tested and are working well.\n",
      " \n",
      "title: Six Things About Opportunity's Recovery Efforts\n",
      "desc:  The global dust storm on Mars could soon let in enough sunlight for the Opportunity rover to recharge.\n",
      " \n",
      "title: Meet the People Behind NASA's InSight Mars Lander\n",
      "desc:  A series of NASA videos highlight scientists and engineers leading the next mission to Mars.\n",
      " \n"
     ]
    }
   ],
   "source": [
    "#Scrape the NASA Mars News Site and \n",
    "#collect the latest News Title and Paragraph Text. \n",
    "\n",
    "# define url and goto page\n",
    "url = 'https://mars.nasa.gov/news'\n",
    "browser.visit(url)\n",
    "\n",
    "# HTML object\n",
    "html = browser.html\n",
    "\n",
    "# Parse HTML with Beautiful Soup\n",
    "soup = BeautifulSoup(html, 'html.parser')\n",
    "\n",
    "# Retrieve news titles\n",
    "v_items     = soup.find_all('li', class_='slide')\n",
    "for rec in v_items:    \n",
    "    title = rec.find('div', class_='content_title').text\n",
    "    print('title: ' + title)  \n",
    "\n",
    "    desc = rec.find('div', class_='article_teaser_body').text\n",
    "    print('desc:  ' + desc)  \n",
    "\n",
    "    print(' ')\n"
   ]
  },
  {
   "cell_type": "markdown",
   "metadata": {},
   "source": [
    "# Step 1.2 - Featured Image"
   ]
  },
  {
   "cell_type": "code",
   "execution_count": 4,
   "metadata": {},
   "outputs": [
    {
     "name": "stdout",
     "output_type": "stream",
     "text": [
      "https://www.jpl.nasa.gov//spaceimages/images/largesize/PIA22955_hires.jpg\n"
     ]
    }
   ],
   "source": [
    "# find the image url for the current Featured Mars Image \n",
    "# and assign the url string to a variable called featured_image_url.\n",
    "#   Make sure to find the image url to the full size .jpg image.\n",
    "#   Make sure to save a complete url string for this image.\n",
    "\n",
    "# define url and goto page\n",
    "base_url = 'https://www.jpl.nasa.gov/'\n",
    "url = base_url + 'spaceimages/?search=&category=Mars'\n",
    "browser.visit(url)\n",
    "\n",
    "# HTML object\n",
    "html = browser.html\n",
    "\n",
    "# Parse HTML with Beautiful Soup\n",
    "soup = BeautifulSoup(html, 'html.parser')\n",
    "\n",
    "# Retrieve first slide image\n",
    "v_item = soup.find('li', class_='slide')\n",
    "v_link = v_item.find('a')\n",
    "featured_image_url = base_url + v_link['data-fancybox-href']\n",
    "print(featured_image_url)\n",
    "\n"
   ]
  },
  {
   "cell_type": "markdown",
   "metadata": {},
   "source": [
    "# Step 1.3 - Mars Weather"
   ]
  },
  {
   "cell_type": "code",
   "execution_count": 5,
   "metadata": {},
   "outputs": [
    {
     "name": "stdout",
     "output_type": "stream",
     "text": [
      "Sol 2258 (2018-12-13), high -6C/21F, low -70C/-93F, pressure at 8.41 hPa, daylight 06:37-18:51\n"
     ]
    }
   ],
   "source": [
    "# find the image url for the current Featured Mars Image \n",
    "# and assign the url string to a variable called featured_image_url.\n",
    "#   Make sure to find the image url to the full size .jpg image.\n",
    "#   Make sure to save a complete url string for this image.\n",
    "\n",
    "# define url and goto page\n",
    "url = 'https://twitter.com/marswxreport?lang=en'\n",
    "browser.visit(url)\n",
    "\n",
    "# HTML object\n",
    "html = browser.html\n",
    "\n",
    "# Parse HTML with Beautiful Soup\n",
    "soup = BeautifulSoup(html, 'html.parser')\n",
    "\n",
    "# Retrieve first weather tweet\n",
    "v_tweets = soup.find('div', class_='ProfileTimeline')\n",
    "v_tweet = v_tweets.find('div', class_='tweet')\n",
    "mars_weather = v_tweet.find('p', class_='TweetTextSize').text\n",
    "print(mars_weather)\n"
   ]
  },
  {
   "cell_type": "markdown",
   "metadata": {},
   "source": [
    "# Step 1.4 - Mars Facts"
   ]
  },
  {
   "cell_type": "code",
   "execution_count": 6,
   "metadata": {},
   "outputs": [
    {
     "data": {
      "text/plain": [
       "'<table border=\"1\" class=\"dataframe\">  <thead>    <tr style=\"text-align: right;\">      <th></th>      <th>Description</th>      <th>Value</th>    </tr>  </thead>  <tbody>    <tr>      <th>0</th>      <td>Equatorial Diameter:</td>      <td>6,792 km</td>    </tr>    <tr>      <th>1</th>      <td>Polar Diameter:</td>      <td>6,752 km</td>    </tr>    <tr>      <th>2</th>      <td>Mass:</td>      <td>6.42 x 10^23 kg (10.7% Earth)</td>    </tr>    <tr>      <th>3</th>      <td>Moons:</td>      <td>2 (Phobos &amp; Deimos)</td>    </tr>    <tr>      <th>4</th>      <td>Orbit Distance:</td>      <td>227,943,824 km (1.52 AU)</td>    </tr>    <tr>      <th>5</th>      <td>Orbit Period:</td>      <td>687 days (1.9 years)</td>    </tr>    <tr>      <th>6</th>      <td>Surface Temperature:</td>      <td>-153 to 20 °C</td>    </tr>    <tr>      <th>7</th>      <td>First Record:</td>      <td>2nd millennium BC</td>    </tr>    <tr>      <th>8</th>      <td>Recorded By:</td>      <td>Egyptian astronomers</td>    </tr>  </tbody></table>'"
      ]
     },
     "execution_count": 6,
     "metadata": {},
     "output_type": "execute_result"
    }
   ],
   "source": [
    "# define url and goto page\n",
    "url = 'https://space-facts.com/mars/'\n",
    "tables = pd.read_html(url)\n",
    "\n",
    "# get first table and set header columns\n",
    "df = tables[0]\n",
    "df.columns = ['Name', 'Value']\n",
    "df.rename(columns={'Name':'Description'}, inplace=True)\n",
    "\n",
    "# Use Pandas to convert the data to a HTML table string.\n",
    "html_table = df.to_html()\n",
    "html_table = html_table.replace('\\n', '')\n",
    "html_table"
   ]
  },
  {
   "cell_type": "markdown",
   "metadata": {},
   "source": [
    "# Step 1.5 - Mars Hemispheres"
   ]
  },
  {
   "cell_type": "code",
   "execution_count": 7,
   "metadata": {},
   "outputs": [
    {
     "name": "stdout",
     "output_type": "stream",
     "text": [
      "Cerberus Hemisphere Enhanced\n",
      "http://astropedia.astrogeology.usgs.gov/download/Mars/Viking/cerberus_enhanced.tif/full.jpg\n",
      " \n",
      "Schiaparelli Hemisphere Enhanced\n",
      "http://astropedia.astrogeology.usgs.gov/download/Mars/Viking/schiaparelli_enhanced.tif/full.jpg\n",
      " \n",
      "Syrtis Major Hemisphere Enhanced\n",
      "http://astropedia.astrogeology.usgs.gov/download/Mars/Viking/syrtis_major_enhanced.tif/full.jpg\n",
      " \n",
      "Valles Marineris Hemisphere Enhanced\n",
      "http://astropedia.astrogeology.usgs.gov/download/Mars/Viking/valles_marineris_enhanced.tif/full.jpg\n",
      " \n",
      "['{\"title\": \"Cerberus Hemisphere Enhanced\", \"img_url\": \"http://astropedia.astrogeology.usgs.gov/download/Mars/Viking/cerberus_enhanced.tif/full.jpg\"}', '{\"title\": \"Schiaparelli Hemisphere Enhanced\", \"img_url\": \"http://astropedia.astrogeology.usgs.gov/download/Mars/Viking/schiaparelli_enhanced.tif/full.jpg\"}', '{\"title\": \"Syrtis Major Hemisphere Enhanced\", \"img_url\": \"http://astropedia.astrogeology.usgs.gov/download/Mars/Viking/syrtis_major_enhanced.tif/full.jpg\"}', '{\"title\": \"Valles Marineris Hemisphere Enhanced\", \"img_url\": \"http://astropedia.astrogeology.usgs.gov/download/Mars/Viking/valles_marineris_enhanced.tif/full.jpg\"}']\n"
     ]
    }
   ],
   "source": [
    "# define empty list\n",
    "hemisphere_image_urls = []\n",
    "\n",
    "# define url and goto page\n",
    "base_url = 'https://astrogeology.usgs.gov'\n",
    "url = base_url + '/search/results?q=hemisphere+enhanced&k1=target&v1=Mars'\n",
    "browser.visit(url)\n",
    "\n",
    "# HTML object\n",
    "html = browser.html\n",
    "\n",
    "# Parse HTML with Beautiful Soup\n",
    "soup = BeautifulSoup(html, 'html.parser')\n",
    "\n",
    "# Retrieve image results\n",
    "v_results = soup.find_all('div', class_='item')\n",
    "\n",
    "for rec in v_results:\n",
    "    # get title\n",
    "    v_title = rec.find('div', class_='description').find('a').find('h3').text\n",
    "    print(v_title)  \n",
    "\n",
    "    # click / goto image page\n",
    "    browser.click_link_by_partial_text(v_title)\n",
    "    \n",
    "    # setup new html soup scrapper\n",
    "    html2 = browser.html\n",
    "    soup2 = BeautifulSoup(html2, 'html.parser')   \n",
    "    \n",
    "    # get full image link\n",
    "    v_link = soup2.find('div', class_='downloads').find('ul').find('li').find('a')['href']\n",
    "    print(v_link)\n",
    "    \n",
    "    # click / go back to main result list\n",
    "    browser.click_link_by_partial_text('Back')\n",
    "\n",
    "    # add scrape results to dictionary list\n",
    "    print(' ')\n",
    "    v_dict = '{\"title\": \"' + v_title + '\", \"img_url\": \"' + v_link + '\"}'\n",
    "    hemisphere_image_urls.append(v_dict)\n",
    "\n",
    "    \n",
    "print(hemisphere_image_urls)   \n"
   ]
  },
  {
   "cell_type": "code",
   "execution_count": null,
   "metadata": {},
   "outputs": [],
   "source": []
  }
 ],
 "metadata": {
  "kernelspec": {
   "display_name": "Python 3",
   "language": "python",
   "name": "python3"
  },
  "language_info": {
   "codemirror_mode": {
    "name": "ipython",
    "version": 3
   },
   "file_extension": ".py",
   "mimetype": "text/x-python",
   "name": "python",
   "nbconvert_exporter": "python",
   "pygments_lexer": "ipython3",
   "version": "3.6.5"
  },
  "varInspector": {
   "cols": {
    "lenName": 16,
    "lenType": 16,
    "lenVar": 40
   },
   "kernels_config": {
    "python": {
     "delete_cmd_postfix": "",
     "delete_cmd_prefix": "del ",
     "library": "var_list.py",
     "varRefreshCmd": "print(var_dic_list())"
    },
    "r": {
     "delete_cmd_postfix": ") ",
     "delete_cmd_prefix": "rm(",
     "library": "var_list.r",
     "varRefreshCmd": "cat(var_dic_list()) "
    }
   },
   "types_to_exclude": [
    "module",
    "function",
    "builtin_function_or_method",
    "instance",
    "_Feature"
   ],
   "window_display": false
  }
 },
 "nbformat": 4,
 "nbformat_minor": 2
}
